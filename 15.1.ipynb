{
 "cells": [
  {
   "cell_type": "code",
   "execution_count": 1,
   "id": "a7dad6c9",
   "metadata": {},
   "outputs": [],
   "source": [
    "import multiprocessing"
   ]
  },
  {
   "cell_type": "code",
   "execution_count": 2,
   "id": "284f9caa",
   "metadata": {},
   "outputs": [],
   "source": [
    "def day(seconds):\n",
    "    from datetime import datetime\n",
    "    from time import sleep\n",
    "    sleep(seconds)\n",
    "    print(\"Time is\", seconds, datetime.utcnow())\n"
   ]
  },
  {
   "cell_type": "code",
   "execution_count": 4,
   "id": "9bd5043e",
   "metadata": {},
   "outputs": [],
   "source": [
    "if __name__==\"__main__\":\n",
    "    import random \n",
    "    for n in range(3):\n",
    "        seconds = random.random()\n",
    "        p = multiprocessing.Process(target=day, args=(seconds,))\n",
    "        p.start()"
   ]
  },
  {
   "cell_type": "code",
   "execution_count": null,
   "id": "41ec58e1",
   "metadata": {},
   "outputs": [],
   "source": []
  }
 ],
 "metadata": {
  "kernelspec": {
   "display_name": "Python 3 (ipykernel)",
   "language": "python",
   "name": "python3"
  },
  "language_info": {
   "codemirror_mode": {
    "name": "ipython",
    "version": 3
   },
   "file_extension": ".py",
   "mimetype": "text/x-python",
   "name": "python",
   "nbconvert_exporter": "python",
   "pygments_lexer": "ipython3",
   "version": "3.9.12"
  }
 },
 "nbformat": 4,
 "nbformat_minor": 5
}
